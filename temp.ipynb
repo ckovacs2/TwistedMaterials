{
 "cells": [
  {
   "cell_type": "code",
   "execution_count": 1,
   "metadata": {},
   "outputs": [
    {
     "name": "stdout",
     "output_type": "stream",
     "text": [
      "Collecting Frames for 2-Homology...\n",
      "\n",
      "Collecting residual frames...\n",
      "energy_frame.parquet exists. Loading now.\n",
      "box_frame.parquet exists. Loading now.\n",
      "force_frame.parquet exists. Loading now.\n",
      "type_frame.parquet exists. Loading now.\n",
      "virial_frame.parquet exists. Loading now.\n",
      "\n",
      "Splitting data into train, val, and test sets...\n",
      "\n",
      "Creating Rips Frame for 2-Homology...\n",
      "rips_2_frame.parquet exists. Loading now.\n",
      "\n"
     ]
    }
   ],
   "source": [
    "from dataset import PBowDataset\n",
    "\n",
    "pd = PBowDataset(dataset_type='train')"
   ]
  },
  {
   "cell_type": "code",
   "execution_count": 2,
   "metadata": {},
   "outputs": [
    {
     "ename": "KeyError",
     "evalue": "(0, 1)",
     "output_type": "error",
     "traceback": [
      "\u001b[0;31m---------------------------------------------------------------------------\u001b[0m",
      "\u001b[0;31mKeyError\u001b[0m                                  Traceback (most recent call last)",
      "Cell \u001b[0;32mIn[2], line 1\u001b[0m\n\u001b[0;32m----> 1\u001b[0m \u001b[43mpd\u001b[49m\u001b[43m[\u001b[49m\u001b[43m[\u001b[49m\u001b[38;5;241;43m0\u001b[39;49m\u001b[43m,\u001b[49m\u001b[43m \u001b[49m\u001b[38;5;241;43m1\u001b[39;49m\u001b[43m]\u001b[49m\u001b[43m]\u001b[49m\n",
      "File \u001b[0;32m/workspaces/TwistedMaterials/dataset.py:91\u001b[0m, in \u001b[0;36mPBowDataset.__getitem__\u001b[0;34m(self, idx)\u001b[0m\n\u001b[1;32m     89\u001b[0m \u001b[38;5;28;01mif\u001b[39;00m torch\u001b[38;5;241m.\u001b[39mis_tensor(idx):\n\u001b[1;32m     90\u001b[0m     idx \u001b[38;5;241m=\u001b[39m idx\u001b[38;5;241m.\u001b[39mtolist()\n\u001b[0;32m---> 91\u001b[0m \u001b[38;5;28;01mreturn\u001b[39;00m \u001b[38;5;28;43mself\u001b[39;49m\u001b[38;5;241;43m.\u001b[39;49m\u001b[43m_get_sample\u001b[49m\u001b[43m(\u001b[49m\u001b[43midx\u001b[49m\u001b[43m)\u001b[49m\n",
      "File \u001b[0;32m/workspaces/TwistedMaterials/dataset.py:80\u001b[0m, in \u001b[0;36mPBowDataset._get_sample\u001b[0;34m(self, idx)\u001b[0m\n\u001b[1;32m     78\u001b[0m force, energy \u001b[38;5;241m=\u001b[39m \u001b[38;5;28mself\u001b[39m\u001b[38;5;241m.\u001b[39m_get_labels(idx\u001b[38;5;241m=\u001b[39midx)\n\u001b[1;32m     79\u001b[0m rips \u001b[38;5;241m=\u001b[39m \u001b[38;5;28mself\u001b[39m\u001b[38;5;241m.\u001b[39m_get_rips_complex(idx\u001b[38;5;241m=\u001b[39midx)\n\u001b[0;32m---> 80\u001b[0m feature \u001b[38;5;241m=\u001b[39m \u001b[38;5;28;43mself\u001b[39;49m\u001b[38;5;241;43m.\u001b[39;49m\u001b[43m_get_features\u001b[49m\u001b[43m(\u001b[49m\u001b[43mrips\u001b[49m\u001b[43m)\u001b[49m\n\u001b[1;32m     81\u001b[0m sample \u001b[38;5;241m=\u001b[39m {\n\u001b[1;32m     82\u001b[0m     \u001b[38;5;124m\"\u001b[39m\u001b[38;5;124mdata\u001b[39m\u001b[38;5;124m\"\u001b[39m: feature,\n\u001b[1;32m     83\u001b[0m     \u001b[38;5;124m\"\u001b[39m\u001b[38;5;124mforce\u001b[39m\u001b[38;5;124m\"\u001b[39m: force,\n\u001b[1;32m     84\u001b[0m     \u001b[38;5;124m\"\u001b[39m\u001b[38;5;124menergy\u001b[39m\u001b[38;5;124m\"\u001b[39m: energy\n\u001b[1;32m     85\u001b[0m }\n\u001b[1;32m     86\u001b[0m \u001b[38;5;28;01mreturn\u001b[39;00m PersistenceSample(\u001b[38;5;241m*\u001b[39m\u001b[38;5;241m*\u001b[39msample)\n",
      "File \u001b[0;32m/workspaces/TwistedMaterials/dataset.py:74\u001b[0m, in \u001b[0;36mPBowDataset._get_features\u001b[0;34m(self, diags)\u001b[0m\n\u001b[1;32m     73\u001b[0m \u001b[38;5;28;01mdef\u001b[39;00m \u001b[38;5;21m_get_features\u001b[39m(\u001b[38;5;28mself\u001b[39m, diags) \u001b[38;5;241m-\u001b[39m\u001b[38;5;241m>\u001b[39m ndarray:\n\u001b[0;32m---> 74\u001b[0m     features \u001b[38;5;241m=\u001b[39m \u001b[38;5;28;43mself\u001b[39;49m\u001b[38;5;241;43m.\u001b[39;49m\u001b[43mpbow\u001b[49m\u001b[38;5;241;43m.\u001b[39;49m\u001b[43mfeatures\u001b[49m\u001b[43m(\u001b[49m\u001b[43mdiags\u001b[49m\u001b[43m)\u001b[49m\n\u001b[1;32m     75\u001b[0m     \u001b[38;5;28;01mreturn\u001b[39;00m features\n",
      "File \u001b[0;32m/workspaces/TwistedMaterials/embeddings.py:56\u001b[0m, in \u001b[0;36mPBoW.features\u001b[0;34m(self, curr_diags)\u001b[0m\n\u001b[1;32m     53\u001b[0m \u001b[38;5;28;01mdef\u001b[39;00m \u001b[38;5;21mfeatures\u001b[39m(\n\u001b[1;32m     54\u001b[0m     \u001b[38;5;28mself\u001b[39m, curr_diags\n\u001b[1;32m     55\u001b[0m ) \u001b[38;5;241m-\u001b[39m\u001b[38;5;241m>\u001b[39m ndarray:\n\u001b[0;32m---> 56\u001b[0m     descriptor \u001b[38;5;241m=\u001b[39m \u001b[38;5;28;43mself\u001b[39;49m\u001b[38;5;241;43m.\u001b[39;49m\u001b[43m_get_descriptor\u001b[49m\u001b[43m(\u001b[49m\u001b[43mcurr_diags\u001b[49m\u001b[38;5;241;43m=\u001b[39;49m\u001b[43mcurr_diags\u001b[49m\u001b[43m)\u001b[49m\n\u001b[1;32m     57\u001b[0m     features \u001b[38;5;241m=\u001b[39m descriptor\u001b[38;5;241m.\u001b[39mcopy()\n\u001b[1;32m     58\u001b[0m     features \u001b[38;5;241m=\u001b[39m np\u001b[38;5;241m.\u001b[39msign(features) \u001b[38;5;241m*\u001b[39m np\u001b[38;5;241m.\u001b[39msqrt(np\u001b[38;5;241m.\u001b[39mabs(features)) \u001b[38;5;241m/\u001b[39m np\u001b[38;5;241m.\u001b[39mlinalg\u001b[38;5;241m.\u001b[39mnorm(features, axis \u001b[38;5;241m=\u001b[39m \u001b[38;5;241m0\u001b[39m)\n",
      "File \u001b[0;32m/workspaces/TwistedMaterials/embeddings.py:45\u001b[0m, in \u001b[0;36mPBoW._get_descriptor\u001b[0;34m(self, curr_diags)\u001b[0m\n\u001b[1;32m     43\u001b[0m     vpbow_dict[cell] \u001b[38;5;241m=\u001b[39m {i: \u001b[38;5;241m0\u001b[39m \u001b[38;5;28;01mfor\u001b[39;00m i \u001b[38;5;129;01min\u001b[39;00m \u001b[38;5;28mrange\u001b[39m(\u001b[38;5;28mself\u001b[39m\u001b[38;5;241m.\u001b[39mnclusters)}\n\u001b[1;32m     44\u001b[0m     \u001b[38;5;28;01mfor\u001b[39;00m cluster_num \u001b[38;5;129;01min\u001b[39;00m indices:\n\u001b[0;32m---> 45\u001b[0m         vpbow_dict[cell][cluster_num] \u001b[38;5;241m+\u001b[39m\u001b[38;5;241m=\u001b[39m \u001b[38;5;241m1\u001b[39m\n\u001b[1;32m     46\u001b[0m     vpbow_dict[cell] \u001b[38;5;241m=\u001b[39m \u001b[38;5;28mlist\u001b[39m(vpbow_dict[cell]\u001b[38;5;241m.\u001b[39mvalues())\n\u001b[1;32m     48\u001b[0m \u001b[38;5;66;03m# convert to matrix \u001b[39;00m\n",
      "\u001b[0;31mKeyError\u001b[0m: (0, 1)"
     ]
    }
   ],
   "source": [
    "pd[[0, 1]]"
   ]
  },
  {
   "cell_type": "code",
   "execution_count": 5,
   "metadata": {},
   "outputs": [
    {
     "data": {
      "text/plain": [
       "((136000, 5),\n",
       " (136000, 166),\n",
       " (136000, 13),\n",
       " (136000, 13),\n",
       " (5184, 5),\n",
       " (5149168, 7))"
      ]
     },
     "execution_count": 5,
     "metadata": {},
     "output_type": "execute_result"
    }
   ],
   "source": [
    "precompute.energy.shape, precompute.force.shape, precompute.box.shape, precompute.virial.shape, precompute.type.shape, precompute.rips.shape"
   ]
  }
 ],
 "metadata": {
  "kernelspec": {
   "display_name": "Python 3",
   "language": "python",
   "name": "python3"
  },
  "language_info": {
   "codemirror_mode": {
    "name": "ipython",
    "version": 3
   },
   "file_extension": ".py",
   "mimetype": "text/x-python",
   "name": "python",
   "nbconvert_exporter": "python",
   "pygments_lexer": "ipython3",
   "version": "3.10.13"
  }
 },
 "nbformat": 4,
 "nbformat_minor": 2
}
