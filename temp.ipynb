{
 "cells": [
  {
   "cell_type": "code",
   "execution_count": 1,
   "metadata": {},
   "outputs": [
    {
     "name": "stdout",
     "output_type": "stream",
     "text": [
      "Collecting Frames for 2-Homology...\n",
      "\n",
      "Collecting residual frames...\n",
      "energy_frame.parquet exists. Loading now.\n",
      "box_frame.parquet exists. Loading now.\n",
      "force_frame.parquet exists. Loading now.\n",
      "type_frame.parquet exists. Loading now.\n",
      "virial_frame.parquet exists. Loading now.\n",
      "\n",
      "Splitting data into train, val, and test sets...\n",
      "\n",
      "Creating Rips Frame for 2-Homology...\n",
      "rips_2_frame.parquet exists. Loading now.\n",
      "\n",
      "Getting train data...\n",
      "\n",
      "Collecting Frames for 2-Homology...\n",
      "\n",
      "Collecting residual frames...\n",
      "energy_frame.parquet exists. Loading now.\n",
      "box_frame.parquet exists. Loading now.\n",
      "force_frame.parquet exists. Loading now.\n",
      "type_frame.parquet exists. Loading now.\n",
      "virial_frame.parquet exists. Loading now.\n",
      "\n",
      "Splitting data into train, val, and test sets...\n",
      "\n",
      "Creating Rips Frame for 2-Homology...\n",
      "rips_2_frame.parquet exists. Loading now.\n",
      "\n",
      "Getting val data...\n",
      "\n"
     ]
    }
   ],
   "source": [
    "from dataset import PBowDataset\n",
    "pbow_train = PBowDataset(dataset_type='train')\n",
    "pbow_val = PBowDataset(dataset_type='val')"
   ]
  },
  {
   "cell_type": "code",
   "execution_count": 2,
   "metadata": {},
   "outputs": [
    {
     "name": "stderr",
     "output_type": "stream",
     "text": [
      "/workspaces/TwistedMaterials/embeddings.py:60: RuntimeWarning: invalid value encountered in divide\n",
      "  features = np.sign(features) * np.sqrt(np.abs(features)) / np.linalg.norm(features, axis = 0)\n"
     ]
    },
    {
     "data": {
      "text/plain": [
       "(2000, 5)"
      ]
     },
     "execution_count": 2,
     "metadata": {},
     "output_type": "execute_result"
    }
   ],
   "source": [
    "pbow_train[0]['data'].shape"
   ]
  }
 ],
 "metadata": {
  "kernelspec": {
   "display_name": "Python 3",
   "language": "python",
   "name": "python3"
  },
  "language_info": {
   "codemirror_mode": {
    "name": "ipython",
    "version": 3
   },
   "file_extension": ".py",
   "mimetype": "text/x-python",
   "name": "python",
   "nbconvert_exporter": "python",
   "pygments_lexer": "ipython3",
   "version": "3.10.13"
  }
 },
 "nbformat": 4,
 "nbformat_minor": 2
}
