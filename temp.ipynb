{
 "cells": [
  {
   "cell_type": "code",
   "execution_count": 1,
   "metadata": {},
   "outputs": [
    {
     "name": "stdout",
     "output_type": "stream",
     "text": [
      "3 1 train\n",
      "Collecting Frames for 1-Homology...\n",
      "\n",
      "Collecting residual frames...\n",
      "energy_frame.parquet exists. Loading now.\n",
      "box_frame.parquet exists. Loading now.\n",
      "force_frame.parquet exists. Loading now.\n",
      "type_frame.parquet exists. Loading now.\n",
      "virial_frame.parquet exists. Loading now.\n",
      "\n",
      "Splitting data into train, val, and test sets...\n",
      "\n",
      "Creating Rips Frame for 1-Homology...\n",
      "rips_1_frame.parquet exists. Loading now.\n",
      "\n",
      "Getting train data...\n",
      "\n",
      "3 1 val\n",
      "Collecting Frames for 1-Homology...\n",
      "\n",
      "Collecting residual frames...\n",
      "energy_frame.parquet exists. Loading now.\n",
      "box_frame.parquet exists. Loading now.\n",
      "force_frame.parquet exists. Loading now.\n",
      "type_frame.parquet exists. Loading now.\n",
      "virial_frame.parquet exists. Loading now.\n",
      "\n",
      "Splitting data into train, val, and test sets...\n",
      "\n",
      "Creating Rips Frame for 1-Homology...\n",
      "rips_1_frame.parquet exists. Loading now.\n",
      "\n",
      "Getting val data...\n",
      "\n",
      "3 2 train\n",
      "Collecting Frames for 2-Homology...\n",
      "\n",
      "Collecting residual frames...\n",
      "energy_frame.parquet exists. Loading now.\n",
      "box_frame.parquet exists. Loading now.\n",
      "force_frame.parquet exists. Loading now.\n",
      "type_frame.parquet exists. Loading now.\n",
      "virial_frame.parquet exists. Loading now.\n",
      "\n",
      "Splitting data into train, val, and test sets...\n",
      "\n",
      "Creating Rips Frame for 2-Homology...\n",
      "rips_2_frame.parquet exists. Loading now.\n",
      "\n",
      "Getting train data...\n",
      "\n",
      "3 2 val\n",
      "Collecting Frames for 2-Homology...\n",
      "\n",
      "Collecting residual frames...\n",
      "energy_frame.parquet exists. Loading now.\n",
      "box_frame.parquet exists. Loading now.\n",
      "force_frame.parquet exists. Loading now.\n",
      "type_frame.parquet exists. Loading now.\n",
      "virial_frame.parquet exists. Loading now.\n",
      "\n",
      "Splitting data into train, val, and test sets...\n",
      "\n",
      "Creating Rips Frame for 2-Homology...\n",
      "rips_2_frame.parquet exists. Loading now.\n",
      "\n",
      "Getting val data...\n",
      "\n",
      "5 1 train\n",
      "Collecting Frames for 1-Homology...\n",
      "\n",
      "Collecting residual frames...\n",
      "energy_frame.parquet exists. Loading now.\n",
      "box_frame.parquet exists. Loading now.\n",
      "force_frame.parquet exists. Loading now.\n",
      "type_frame.parquet exists. Loading now.\n",
      "virial_frame.parquet exists. Loading now.\n",
      "\n",
      "Splitting data into train, val, and test sets...\n",
      "\n",
      "Creating Rips Frame for 1-Homology...\n",
      "rips_1_frame.parquet exists. Loading now.\n",
      "\n",
      "Getting train data...\n",
      "\n",
      "model_data/train-1-5_pbow_embeddings.parquet doesn't exist. Collecting and creating now...\n"
     ]
    },
    {
     "name": "stderr",
     "output_type": "stream",
     "text": [
      "100%|██████████| 108000/108000 [20:01<00:00, 89.92it/s]\n"
     ]
    },
    {
     "name": "stdout",
     "output_type": "stream",
     "text": [
      "5 1 val\n",
      "Collecting Frames for 1-Homology...\n",
      "\n",
      "Collecting residual frames...\n",
      "energy_frame.parquet exists. Loading now.\n",
      "box_frame.parquet exists. Loading now.\n",
      "force_frame.parquet exists. Loading now.\n",
      "type_frame.parquet exists. Loading now.\n",
      "virial_frame.parquet exists. Loading now.\n",
      "\n",
      "Splitting data into train, val, and test sets...\n",
      "\n",
      "Creating Rips Frame for 1-Homology...\n",
      "rips_1_frame.parquet exists. Loading now.\n",
      "\n",
      "Getting val data...\n",
      "\n",
      "model_data/val-1-5_pbow_embeddings.parquet doesn't exist. Collecting and creating now...\n"
     ]
    },
    {
     "name": "stderr",
     "output_type": "stream",
     "text": [
      "100%|██████████| 14000/14000 [00:13<00:00, 1045.02it/s]\n"
     ]
    },
    {
     "name": "stdout",
     "output_type": "stream",
     "text": [
      "5 2 train\n",
      "Collecting Frames for 2-Homology...\n",
      "\n",
      "Collecting residual frames...\n",
      "energy_frame.parquet exists. Loading now.\n",
      "box_frame.parquet exists. Loading now.\n",
      "force_frame.parquet exists. Loading now.\n",
      "type_frame.parquet exists. Loading now.\n",
      "virial_frame.parquet exists. Loading now.\n",
      "\n",
      "Splitting data into train, val, and test sets...\n",
      "\n",
      "Creating Rips Frame for 2-Homology...\n",
      "rips_2_frame.parquet exists. Loading now.\n",
      "\n",
      "Getting train data...\n",
      "\n",
      "5 2 val\n",
      "Collecting Frames for 2-Homology...\n",
      "\n",
      "Collecting residual frames...\n",
      "energy_frame.parquet exists. Loading now.\n",
      "box_frame.parquet exists. Loading now.\n",
      "force_frame.parquet exists. Loading now.\n",
      "type_frame.parquet exists. Loading now.\n",
      "virial_frame.parquet exists. Loading now.\n",
      "\n",
      "Splitting data into train, val, and test sets...\n",
      "\n",
      "Creating Rips Frame for 2-Homology...\n",
      "rips_2_frame.parquet exists. Loading now.\n",
      "\n",
      "Getting val data...\n",
      "\n",
      "10 1 train\n",
      "Collecting Frames for 1-Homology...\n",
      "\n",
      "Collecting residual frames...\n",
      "energy_frame.parquet exists. Loading now.\n",
      "box_frame.parquet exists. Loading now.\n",
      "force_frame.parquet exists. Loading now.\n",
      "type_frame.parquet exists. Loading now.\n",
      "virial_frame.parquet exists. Loading now.\n",
      "\n",
      "Splitting data into train, val, and test sets...\n",
      "\n",
      "Creating Rips Frame for 1-Homology...\n",
      "rips_1_frame.parquet exists. Loading now.\n",
      "\n",
      "Getting train data...\n",
      "\n",
      "model_data/train-1-10_pbow_embeddings.parquet doesn't exist. Collecting and creating now...\n"
     ]
    },
    {
     "name": "stderr",
     "output_type": "stream",
     "text": [
      "100%|██████████| 108000/108000 [20:07<00:00, 89.42it/s]\n"
     ]
    },
    {
     "name": "stdout",
     "output_type": "stream",
     "text": [
      "10 1 val\n",
      "Collecting Frames for 1-Homology...\n",
      "\n",
      "Collecting residual frames...\n",
      "energy_frame.parquet exists. Loading now.\n",
      "box_frame.parquet exists. Loading now.\n",
      "force_frame.parquet exists. Loading now.\n",
      "type_frame.parquet exists. Loading now.\n",
      "virial_frame.parquet exists. Loading now.\n",
      "\n",
      "Splitting data into train, val, and test sets...\n",
      "\n",
      "Creating Rips Frame for 1-Homology...\n",
      "rips_1_frame.parquet exists. Loading now.\n",
      "\n",
      "Getting val data...\n",
      "\n",
      "model_data/val-1-10_pbow_embeddings.parquet doesn't exist. Collecting and creating now...\n"
     ]
    },
    {
     "name": "stderr",
     "output_type": "stream",
     "text": [
      "100%|██████████| 14000/14000 [00:13<00:00, 1076.38it/s]\n"
     ]
    },
    {
     "name": "stdout",
     "output_type": "stream",
     "text": [
      "10 2 train\n",
      "Collecting Frames for 2-Homology...\n",
      "\n",
      "Collecting residual frames...\n",
      "energy_frame.parquet exists. Loading now.\n",
      "box_frame.parquet exists. Loading now.\n",
      "force_frame.parquet exists. Loading now.\n",
      "type_frame.parquet exists. Loading now.\n",
      "virial_frame.parquet exists. Loading now.\n",
      "\n",
      "Splitting data into train, val, and test sets...\n",
      "\n",
      "Creating Rips Frame for 2-Homology...\n",
      "rips_2_frame.parquet exists. Loading now.\n",
      "\n",
      "Getting train data...\n",
      "\n",
      "model_data/train-2-10_pbow_embeddings.parquet doesn't exist. Collecting and creating now...\n"
     ]
    },
    {
     "name": "stderr",
     "output_type": "stream",
     "text": [
      "100%|██████████| 108000/108000 [03:37<00:00, 497.59it/s]\n"
     ]
    },
    {
     "name": "stdout",
     "output_type": "stream",
     "text": [
      "10 2 val\n",
      "Collecting Frames for 2-Homology...\n",
      "\n",
      "Collecting residual frames...\n",
      "energy_frame.parquet exists. Loading now.\n",
      "box_frame.parquet exists. Loading now.\n",
      "force_frame.parquet exists. Loading now.\n",
      "type_frame.parquet exists. Loading now.\n",
      "virial_frame.parquet exists. Loading now.\n",
      "\n",
      "Splitting data into train, val, and test sets...\n",
      "\n",
      "Creating Rips Frame for 2-Homology...\n",
      "rips_2_frame.parquet exists. Loading now.\n",
      "\n",
      "Getting val data...\n",
      "\n",
      "model_data/val-2-10_pbow_embeddings.parquet doesn't exist. Collecting and creating now...\n"
     ]
    },
    {
     "name": "stderr",
     "output_type": "stream",
     "text": [
      "100%|██████████| 14000/14000 [00:08<00:00, 1622.06it/s]\n"
     ]
    }
   ],
   "source": [
    "from dataset import PBowDataset\n",
    "\n",
    "clusters = [3, 5, 10]\n",
    "hm_classes = [1, 2]\n",
    "data_types = ['train', 'val']\n",
    "for cluster in clusters:\n",
    "    for hm in hm_classes:\n",
    "        for dt in data_types:\n",
    "            print(cluster, hm, dt)\n",
    "            _ = PBowDataset(dataset_type=dt, hm_class=hm, nclusters=cluster)"
   ]
  },
  {
   "cell_type": "code",
   "execution_count": 16,
   "metadata": {},
   "outputs": [],
   "source": [
    "from torch.utils.data import DataLoader"
   ]
  },
  {
   "cell_type": "code",
   "execution_count": 18,
   "metadata": {},
   "outputs": [
    {
     "name": "stdout",
     "output_type": "stream",
     "text": [
      "torch.Size([100, 5])\n"
     ]
    }
   ],
   "source": [
    "val_loader = DataLoader(pbow_train, batch_size = 100, shuffle=True)\n",
    "for sample in val_loader:\n",
    "    print(sample['data'].shape)\n",
    "    break"
   ]
  }
 ],
 "metadata": {
  "kernelspec": {
   "display_name": "Python 3",
   "language": "python",
   "name": "python3"
  },
  "language_info": {
   "codemirror_mode": {
    "name": "ipython",
    "version": 3
   },
   "file_extension": ".py",
   "mimetype": "text/x-python",
   "name": "python",
   "nbconvert_exporter": "python",
   "pygments_lexer": "ipython3",
   "version": "3.10.13"
  }
 },
 "nbformat": 4,
 "nbformat_minor": 2
}
