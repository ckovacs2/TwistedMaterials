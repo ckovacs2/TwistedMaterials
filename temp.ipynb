{
 "cells": [
  {
   "cell_type": "code",
   "execution_count": 2,
   "metadata": {},
   "outputs": [
    {
     "name": "stdout",
     "output_type": "stream",
     "text": [
      "Collecting Frames for 1-Homology...\n",
      "\n",
      "Collecting residual frames...\n",
      "energy_frame.parquet exists. Loading now.\n",
      "box_frame.parquet exists. Loading now.\n",
      "force_frame.parquet exists. Loading now.\n",
      "type_frame.parquet exists. Loading now.\n",
      "virial_frame.parquet exists. Loading now.\n",
      "\n",
      "Splitting data into train, val, and test sets...\n",
      "\n",
      "Creating Rips Frame for 1-Homology...\n",
      "rips_1_frame.parquet exists. Loading now.\n",
      "\n",
      "Getting train data...\n",
      "\n"
     ]
    }
   ],
   "source": [
    "from dataset import PBowDataset\n",
    "\n",
    "datset = PBowDataset(dataset_type='train', hm_class=1, nclusters=10)"
   ]
  },
  {
   "cell_type": "code",
   "execution_count": 5,
   "metadata": {},
   "outputs": [],
   "source": [
    "from torch.utils.data import DataLoader\n",
    "from tqdm import tqdm"
   ]
  },
  {
   "cell_type": "code",
   "execution_count": 8,
   "metadata": {},
   "outputs": [
    {
     "name": "stderr",
     "output_type": "stream",
     "text": [
      "100%|██████████| 540/540 [00:06<00:00, 85.00it/s]\n"
     ]
    }
   ],
   "source": [
    "val_loader = DataLoader(datset, batch_size = 200, shuffle=True)\n",
    "for sample in tqdm(val_loader):\n",
    "    continue"
   ]
  }
 ],
 "metadata": {
  "kernelspec": {
   "display_name": "Python 3",
   "language": "python",
   "name": "python3"
  },
  "language_info": {
   "codemirror_mode": {
    "name": "ipython",
    "version": 3
   },
   "file_extension": ".py",
   "mimetype": "text/x-python",
   "name": "python",
   "nbconvert_exporter": "python",
   "pygments_lexer": "ipython3",
   "version": "3.10.13"
  }
 },
 "nbformat": 4,
 "nbformat_minor": 2
}
