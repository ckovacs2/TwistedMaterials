{
 "cells": [
  {
   "cell_type": "code",
   "execution_count": 12,
   "metadata": {},
   "outputs": [],
   "source": [
    "import os\n",
    "import numpy as np\n",
    "tmd = os.path.join(\"TMD\", \"IVDW_11\", \"0\", \"data_deepmd\", \"coord.raw\")"
   ]
  },
  {
   "cell_type": "code",
   "execution_count": 3,
   "metadata": {},
   "outputs": [
    {
     "data": {
      "text/plain": [
       "'Te\\n'"
      ]
     },
     "execution_count": 3,
     "metadata": {},
     "output_type": "execute_result"
    }
   ],
   "source": [
    "\"Te\\n\".rstrip(r\"\\n\")"
   ]
  },
  {
   "cell_type": "code",
   "execution_count": 2,
   "metadata": {},
   "outputs": [],
   "source": [
    "from deepmd import DeepMD\n",
    "import numpy as np\n",
    "\n",
    "data = DeepMD(\"IVDW_11\", \"0\")"
   ]
  },
  {
   "cell_type": "code",
   "execution_count": 3,
   "metadata": {},
   "outputs": [
    {
     "name": "stdout",
     "output_type": "stream",
     "text": [
      "<class 'deepmd.DeepMDModel'>\n",
      "box: (2000, 9)\n",
      "coord: (2000, 54, 3)\n",
      "energy: (2000, 1)\n",
      "force: (2000, 54, 3)\n",
      "type_map: (2, 1)\n",
      "type: (54, 1)\n",
      "virial: (2000, 9)\n"
     ]
    }
   ],
   "source": [
    "print(type(data.features))\n",
    "for name, data in data.features.__dict__.items():\n",
    "    print(f\"{name}: {data.shape}\")"
   ]
  }
 ],
 "metadata": {
  "kernelspec": {
   "display_name": "Python 3",
   "language": "python",
   "name": "python3"
  },
  "language_info": {
   "codemirror_mode": {
    "name": "ipython",
    "version": 3
   },
   "file_extension": ".py",
   "mimetype": "text/x-python",
   "name": "python",
   "nbconvert_exporter": "python",
   "pygments_lexer": "ipython3",
   "version": "3.10.13"
  }
 },
 "nbformat": 4,
 "nbformat_minor": 2
}
